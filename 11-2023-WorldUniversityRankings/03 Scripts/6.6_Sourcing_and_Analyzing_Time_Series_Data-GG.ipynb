{
 "cells": [
  {
   "cell_type": "markdown",
   "id": "8bc6345d",
   "metadata": {},
   "source": [
    "## 01. Import Libraries"
   ]
  },
  {
   "cell_type": "code",
   "execution_count": 1,
   "id": "8bb3b955",
   "metadata": {},
   "outputs": [],
   "source": [
    "#import libraries \n",
    "import pandas as pd \n",
    "import numpy as np \n",
    "import os \n",
    "import matplotlib.pyplot as plt\n",
    "import seaborn as sns\n",
    "import scipy \n",
    "import plotly.express as px\n",
    "from fractions import Fraction # Library to calculate fractions\n",
    "import matplotlib\n",
    "import folium\n",
    "import json\n",
    "import plotly\n",
    "import plotly.express as px\n",
    "from sklearn.model_selection import train_test_split \n",
    "from sklearn.linear_model import LinearRegression\n",
    "from sklearn.metrics import mean_squared_error, r2_score"
   ]
  },
  {
   "cell_type": "markdown",
   "id": "b4a96887",
   "metadata": {},
   "source": [
    "## 2. Import your data and conduct any necessary cleaning, manipulations, and reprocessing (such as renaming). "
   ]
  },
  {
   "cell_type": "code",
   "execution_count": 2,
   "id": "0b096f32",
   "metadata": {},
   "outputs": [],
   "source": [
    "import sklearn\n",
    "from sklearn.cluster import KMeans # Here is where you import the k-means algorithm from scikit-learn.\n",
    "from sklearn.preprocessing import StandardScaler\n",
    "import pylab as pl # PyLab is a convenience module that bulk imports matplotlib.\n",
    "import quandl\n",
    "import statsmodels.api as sm\n",
    "import warnings\n",
    "\n",
    "\n",
    "warnings.filterwarnings(\"ignore\")\n",
    "\n",
    "plt.style.use('fivethirtyeight')\n"
   ]
  },
  {
   "cell_type": "code",
   "execution_count": 3,
   "id": "f8b8bf8d",
   "metadata": {},
   "outputs": [],
   "source": [
    "# Configure API key\n",
    "quandl.ApiConfig.api_key = 'WtQ2yBDKu4QFYP9Y2C1z'"
   ]
  },
  {
   "cell_type": "markdown",
   "id": "1ec77610",
   "metadata": {},
   "source": [
    "## Import Path & Data Set "
   ]
  },
  {
   "cell_type": "code",
   "execution_count": 4,
   "id": "73da9317",
   "metadata": {},
   "outputs": [],
   "source": [
    "# Project folder shortcut path \n",
    "path = r'C:\\Users\\Gregor\\ownCloud\\CareerFoundry\\6.1\\WorldUniversityRankings'"
   ]
  },
  {
   "cell_type": "code",
   "execution_count": 5,
   "id": "9b5a1c9a",
   "metadata": {},
   "outputs": [
    {
     "data": {
      "text/plain": [
       "'C:\\\\Users\\\\Gregor\\\\ownCloud\\\\CareerFoundry\\\\6.1\\\\WorldUniversityRankings'"
      ]
     },
     "execution_count": 5,
     "metadata": {},
     "output_type": "execute_result"
    }
   ],
   "source": [
    "path"
   ]
  },
  {
   "cell_type": "code",
   "execution_count": 6,
   "id": "3a5d2bec",
   "metadata": {},
   "outputs": [],
   "source": [
    "# import World University Rankings cleaned data set\n",
    "df = pd.read_csv(os.path.join(path, 'Prepared Data', 'timesData_cleaned.csv'), index_col = 0)"
   ]
  },
  {
   "cell_type": "code",
   "execution_count": 6,
   "id": "241d2830",
   "metadata": {
    "scrolled": true
   },
   "outputs": [
    {
     "data": {
      "text/html": [
       "<div>\n",
       "<style scoped>\n",
       "    .dataframe tbody tr th:only-of-type {\n",
       "        vertical-align: middle;\n",
       "    }\n",
       "\n",
       "    .dataframe tbody tr th {\n",
       "        vertical-align: top;\n",
       "    }\n",
       "\n",
       "    .dataframe thead th {\n",
       "        text-align: right;\n",
       "    }\n",
       "</style>\n",
       "<table border=\"1\" class=\"dataframe\">\n",
       "  <thead>\n",
       "    <tr style=\"text-align: right;\">\n",
       "      <th></th>\n",
       "      <th>world_rank</th>\n",
       "      <th>university_name</th>\n",
       "      <th>country</th>\n",
       "      <th>teaching</th>\n",
       "      <th>international</th>\n",
       "      <th>research</th>\n",
       "      <th>citations</th>\n",
       "      <th>income</th>\n",
       "      <th>total_score</th>\n",
       "      <th>num_students</th>\n",
       "      <th>student_staff_ratio</th>\n",
       "      <th>international_students</th>\n",
       "      <th>female_male_ratio</th>\n",
       "      <th>year</th>\n",
       "    </tr>\n",
       "  </thead>\n",
       "  <tbody>\n",
       "    <tr>\n",
       "      <th>0</th>\n",
       "      <td>1</td>\n",
       "      <td>Harvard University</td>\n",
       "      <td>United States of America</td>\n",
       "      <td>99.7</td>\n",
       "      <td>72.4</td>\n",
       "      <td>98.7</td>\n",
       "      <td>98.8</td>\n",
       "      <td>34.5</td>\n",
       "      <td>96.1</td>\n",
       "      <td>20152.0</td>\n",
       "      <td>8.9</td>\n",
       "      <td>25.0</td>\n",
       "      <td>NaN</td>\n",
       "      <td>2011</td>\n",
       "    </tr>\n",
       "    <tr>\n",
       "      <th>1</th>\n",
       "      <td>2</td>\n",
       "      <td>California Institute of Technology</td>\n",
       "      <td>United States of America</td>\n",
       "      <td>97.7</td>\n",
       "      <td>54.6</td>\n",
       "      <td>98.0</td>\n",
       "      <td>99.9</td>\n",
       "      <td>83.7</td>\n",
       "      <td>96.0</td>\n",
       "      <td>2243.0</td>\n",
       "      <td>6.9</td>\n",
       "      <td>27.0</td>\n",
       "      <td>33 : 67</td>\n",
       "      <td>2011</td>\n",
       "    </tr>\n",
       "    <tr>\n",
       "      <th>2</th>\n",
       "      <td>3</td>\n",
       "      <td>Massachusetts Institute of Technology</td>\n",
       "      <td>United States of America</td>\n",
       "      <td>97.8</td>\n",
       "      <td>82.3</td>\n",
       "      <td>91.4</td>\n",
       "      <td>99.9</td>\n",
       "      <td>87.5</td>\n",
       "      <td>95.6</td>\n",
       "      <td>11074.0</td>\n",
       "      <td>9.0</td>\n",
       "      <td>33.0</td>\n",
       "      <td>37 : 63</td>\n",
       "      <td>2011</td>\n",
       "    </tr>\n",
       "    <tr>\n",
       "      <th>3</th>\n",
       "      <td>4</td>\n",
       "      <td>Stanford University</td>\n",
       "      <td>United States of America</td>\n",
       "      <td>98.3</td>\n",
       "      <td>29.5</td>\n",
       "      <td>98.1</td>\n",
       "      <td>99.2</td>\n",
       "      <td>64.3</td>\n",
       "      <td>94.3</td>\n",
       "      <td>15596.0</td>\n",
       "      <td>7.8</td>\n",
       "      <td>22.0</td>\n",
       "      <td>42 : 58</td>\n",
       "      <td>2011</td>\n",
       "    </tr>\n",
       "    <tr>\n",
       "      <th>4</th>\n",
       "      <td>5</td>\n",
       "      <td>Princeton University</td>\n",
       "      <td>United States of America</td>\n",
       "      <td>90.9</td>\n",
       "      <td>70.3</td>\n",
       "      <td>95.4</td>\n",
       "      <td>99.9</td>\n",
       "      <td>-</td>\n",
       "      <td>94.2</td>\n",
       "      <td>7929.0</td>\n",
       "      <td>8.4</td>\n",
       "      <td>27.0</td>\n",
       "      <td>45 : 55</td>\n",
       "      <td>2011</td>\n",
       "    </tr>\n",
       "    <tr>\n",
       "      <th>...</th>\n",
       "      <td>...</td>\n",
       "      <td>...</td>\n",
       "      <td>...</td>\n",
       "      <td>...</td>\n",
       "      <td>...</td>\n",
       "      <td>...</td>\n",
       "      <td>...</td>\n",
       "      <td>...</td>\n",
       "      <td>...</td>\n",
       "      <td>...</td>\n",
       "      <td>...</td>\n",
       "      <td>...</td>\n",
       "      <td>...</td>\n",
       "      <td>...</td>\n",
       "    </tr>\n",
       "    <tr>\n",
       "      <th>2598</th>\n",
       "      <td>601-800</td>\n",
       "      <td>Yeungnam University</td>\n",
       "      <td>South Korea</td>\n",
       "      <td>18.6</td>\n",
       "      <td>24.3</td>\n",
       "      <td>10.9</td>\n",
       "      <td>26.5</td>\n",
       "      <td>35.4</td>\n",
       "      <td>-</td>\n",
       "      <td>21958.0</td>\n",
       "      <td>15.3</td>\n",
       "      <td>3.0</td>\n",
       "      <td>48 : 52</td>\n",
       "      <td>2016</td>\n",
       "    </tr>\n",
       "    <tr>\n",
       "      <th>2599</th>\n",
       "      <td>601-800</td>\n",
       "      <td>Yıldız Technical University</td>\n",
       "      <td>Turkey</td>\n",
       "      <td>14.5</td>\n",
       "      <td>14.9</td>\n",
       "      <td>7.6</td>\n",
       "      <td>19.3</td>\n",
       "      <td>44.0</td>\n",
       "      <td>-</td>\n",
       "      <td>31268.0</td>\n",
       "      <td>28.7</td>\n",
       "      <td>2.0</td>\n",
       "      <td>36 : 64</td>\n",
       "      <td>2016</td>\n",
       "    </tr>\n",
       "    <tr>\n",
       "      <th>2600</th>\n",
       "      <td>601-800</td>\n",
       "      <td>Yokohama City University</td>\n",
       "      <td>Japan</td>\n",
       "      <td>24.0</td>\n",
       "      <td>16.1</td>\n",
       "      <td>10.2</td>\n",
       "      <td>36.4</td>\n",
       "      <td>37.9</td>\n",
       "      <td>-</td>\n",
       "      <td>4122.0</td>\n",
       "      <td>3.7</td>\n",
       "      <td>3.0</td>\n",
       "      <td>NaN</td>\n",
       "      <td>2016</td>\n",
       "    </tr>\n",
       "    <tr>\n",
       "      <th>2601</th>\n",
       "      <td>601-800</td>\n",
       "      <td>Yokohama National University</td>\n",
       "      <td>Japan</td>\n",
       "      <td>20.1</td>\n",
       "      <td>23.3</td>\n",
       "      <td>16.0</td>\n",
       "      <td>13.5</td>\n",
       "      <td>40.4</td>\n",
       "      <td>-</td>\n",
       "      <td>10117.0</td>\n",
       "      <td>12.1</td>\n",
       "      <td>8.0</td>\n",
       "      <td>28 : 72</td>\n",
       "      <td>2016</td>\n",
       "    </tr>\n",
       "    <tr>\n",
       "      <th>2602</th>\n",
       "      <td>601-800</td>\n",
       "      <td>Yuan Ze University</td>\n",
       "      <td>Taiwan</td>\n",
       "      <td>16.2</td>\n",
       "      <td>17.7</td>\n",
       "      <td>18.3</td>\n",
       "      <td>28.6</td>\n",
       "      <td>39.8</td>\n",
       "      <td>-</td>\n",
       "      <td>8663.0</td>\n",
       "      <td>20.6</td>\n",
       "      <td>4.0</td>\n",
       "      <td>43 : 57</td>\n",
       "      <td>2016</td>\n",
       "    </tr>\n",
       "  </tbody>\n",
       "</table>\n",
       "<p>2603 rows × 14 columns</p>\n",
       "</div>"
      ],
      "text/plain": [
       "     world_rank                        university_name  \\\n",
       "0             1                     Harvard University   \n",
       "1             2     California Institute of Technology   \n",
       "2             3  Massachusetts Institute of Technology   \n",
       "3             4                    Stanford University   \n",
       "4             5                   Princeton University   \n",
       "...         ...                                    ...   \n",
       "2598    601-800                    Yeungnam University   \n",
       "2599    601-800            Yıldız Technical University   \n",
       "2600    601-800               Yokohama City University   \n",
       "2601    601-800           Yokohama National University   \n",
       "2602    601-800                     Yuan Ze University   \n",
       "\n",
       "                       country  teaching international  research  citations  \\\n",
       "0     United States of America      99.7          72.4      98.7       98.8   \n",
       "1     United States of America      97.7          54.6      98.0       99.9   \n",
       "2     United States of America      97.8          82.3      91.4       99.9   \n",
       "3     United States of America      98.3          29.5      98.1       99.2   \n",
       "4     United States of America      90.9          70.3      95.4       99.9   \n",
       "...                        ...       ...           ...       ...        ...   \n",
       "2598               South Korea      18.6          24.3      10.9       26.5   \n",
       "2599                    Turkey      14.5          14.9       7.6       19.3   \n",
       "2600                     Japan      24.0          16.1      10.2       36.4   \n",
       "2601                     Japan      20.1          23.3      16.0       13.5   \n",
       "2602                    Taiwan      16.2          17.7      18.3       28.6   \n",
       "\n",
       "     income total_score  num_students  student_staff_ratio  \\\n",
       "0      34.5        96.1       20152.0                  8.9   \n",
       "1      83.7        96.0        2243.0                  6.9   \n",
       "2      87.5        95.6       11074.0                  9.0   \n",
       "3      64.3        94.3       15596.0                  7.8   \n",
       "4         -        94.2        7929.0                  8.4   \n",
       "...     ...         ...           ...                  ...   \n",
       "2598   35.4           -       21958.0                 15.3   \n",
       "2599   44.0           -       31268.0                 28.7   \n",
       "2600   37.9           -        4122.0                  3.7   \n",
       "2601   40.4           -       10117.0                 12.1   \n",
       "2602   39.8           -        8663.0                 20.6   \n",
       "\n",
       "      international_students female_male_ratio  year  \n",
       "0                       25.0               NaN  2011  \n",
       "1                       27.0           33 : 67  2011  \n",
       "2                       33.0           37 : 63  2011  \n",
       "3                       22.0           42 : 58  2011  \n",
       "4                       27.0           45 : 55  2011  \n",
       "...                      ...               ...   ...  \n",
       "2598                     3.0           48 : 52  2016  \n",
       "2599                     2.0           36 : 64  2016  \n",
       "2600                     3.0               NaN  2016  \n",
       "2601                     8.0           28 : 72  2016  \n",
       "2602                     4.0           43 : 57  2016  \n",
       "\n",
       "[2603 rows x 14 columns]"
      ]
     },
     "execution_count": 6,
     "metadata": {},
     "output_type": "execute_result"
    }
   ],
   "source": [
    "df"
   ]
  },
  {
   "cell_type": "code",
   "execution_count": 7,
   "id": "2448e69e",
   "metadata": {},
   "outputs": [],
   "source": [
    "# This command propts matplotlib visuals to appear in the notebook \n",
    "\n",
    "%matplotlib inline"
   ]
  },
  {
   "cell_type": "code",
   "execution_count": 8,
   "id": "8acddf75",
   "metadata": {},
   "outputs": [
    {
     "data": {
      "text/plain": [
       "0       0.000000\n",
       "1       0.492537\n",
       "2       0.587302\n",
       "3       0.724138\n",
       "4       0.818182\n",
       "          ...   \n",
       "2598    0.923077\n",
       "2599    0.562500\n",
       "2600    0.000000\n",
       "2601    0.388889\n",
       "2602    0.754386\n",
       "Name: female_male_ratio, Length: 2603, dtype: float64"
      ]
     },
     "execution_count": 8,
     "metadata": {},
     "output_type": "execute_result"
    }
   ],
   "source": [
    "#change the datatype of the female_male_ratio column to float\n",
    "df['female_male_ratio'] = [str(i).replace(\" \", \"\") for i in df['female_male_ratio']]\n",
    "df['female_male_ratio'] = [(str(i).replace(\"nan\", \"0\")) for i in df['female_male_ratio']]\n",
    "df['female_male_ratio'] = [(str(i).replace(\"-\", \"0\")) for i in df['female_male_ratio']]\n",
    "df['female_male_ratio'] = [(str(i).replace(\":\", \"/\")) for i in df['female_male_ratio']]\n",
    "df['female_male_ratio'] = [Fraction(str(i).replace(\"100/0\", \"100\")) for i in df['female_male_ratio']]\n",
    "df['female_male_ratio'] = [float(Fraction(str(i).replace(\"\", \"\"))) for i in df['female_male_ratio']]\n",
    "df['female_male_ratio']"
   ]
  },
  {
   "cell_type": "code",
   "execution_count": 9,
   "id": "405156b0",
   "metadata": {
    "scrolled": true
   },
   "outputs": [
    {
     "data": {
      "text/plain": [
       "(800, 14)"
      ]
     },
     "execution_count": 9,
     "metadata": {},
     "output_type": "execute_result"
    }
   ],
   "source": [
    "# Create subset including only data from 2016\n",
    "#df_2016 = df.loc[df['year'] == 2016]\n",
    "#pd.set_option('display.max_rows', 200)\n",
    "#df_2016.shape"
   ]
  },
  {
   "cell_type": "code",
   "execution_count": 35,
   "id": "03715ebd",
   "metadata": {},
   "outputs": [
    {
     "data": {
      "text/plain": [
       "(55, 14)"
      ]
     },
     "execution_count": 35,
     "metadata": {},
     "output_type": "execute_result"
    }
   ],
   "source": [
    "# Create subset including only data from top 200 Universities\n",
    "df_top200 = df[df['world_rank'].str.len()<2]\n",
    "df_top200.shape"
   ]
  },
  {
   "cell_type": "code",
   "execution_count": 36,
   "id": "d834ff70",
   "metadata": {},
   "outputs": [],
   "source": [
    "# Delete any '=' in the data set\n",
    "df_top200['world_rank'] = [(str(i).replace(\"=\", \"\")) for i in df_top200['world_rank']]\n",
    "\n",
    "# Replace any '-' in the data set with '0'\n",
    "df_top200['world_rank'] = [float(str(i).replace(\"-\", \"0\")) for i in df_top200['world_rank']]\n",
    "df_top200['teaching'] = [float(str(i).replace(\"-\", \"0\")) for i in df_top200['teaching']]\n",
    "df_top200['international'] = [float(str(i).replace(\"-\", \"0\")) for i in df_top200['international']]\n",
    "df_top200['research'] = [float(str(i).replace(\"-\", \"0\")) for i in df_top200['research']]\n",
    "df_top200['citations'] = [float(str(i).replace(\"-\", \"0\")) for i in df_top200['citations']]\n",
    "df_top200['income'] = [float(str(i).replace(\"-\", \"0\")) for i in df_top200['income']]\n",
    "df_top200['total_score'] = [float(str(i).replace(\"-\", \"0\")) for i in df_top200['total_score']]\n",
    "df_top200['num_students'] = [float(str(i).replace(\"-\", \"0\")) for i in df_top200['num_students']]\n",
    "df_top200['student_staff_ratio'] = [float(str(i).replace(\"-\", \"0\")) for i in df_top200['student_staff_ratio']]\n",
    "df_top200['international_students'] = [float(str(i).replace(\"-\", \"0\")) for i in df_top200['international_students']]\n",
    "df_top200['female_male_ratio'] = [float(str(i).replace(\"-\", \"0\")) for i in df_top200['female_male_ratio']]\n",
    "\n",
    "# Replace any 'nan' in the data set with '0'\n",
    "df_top200['world_rank'] = [float(str(i).replace(\"nan\", \"0\")) for i in df_top200['world_rank']]\n",
    "df_top200['teaching'] = [float(str(i).replace(\"nan\", \"0\")) for i in df_top200['teaching']]\n",
    "df_top200['international'] = [float(str(i).replace(\"nan\", \"0\")) for i in df_top200['international']]\n",
    "df_top200['research'] = [float(str(i).replace(\"nan\", \"0\")) for i in df_top200['research']]\n",
    "df_top200['citations'] = [float(str(i).replace(\"nan\", \"0\")) for i in df_top200['citations']]\n",
    "df_top200['income'] = [float(str(i).replace(\"nan\", \"0\")) for i in df_top200['income']]\n",
    "df_top200['total_score'] = [float(str(i).replace(\"nan\", \"0\")) for i in df_top200['total_score']]\n",
    "df_top200['num_students'] = [float(str(i).replace(\"nan\", \"0\")) for i in df_top200['num_students']]\n",
    "df_top200['student_staff_ratio'] = [float(str(i).replace(\"nan\", \"0\")) for i in df_top200['student_staff_ratio']]\n",
    "df_top200['international_students'] = [float(str(i).replace(\"nan\", \"0\")) for i in df_top200['international_students']]\n",
    "df_top200['female_male_ratio'] = [float(str(i).replace(\"nan\", \"0\")) for i in df_top200['female_male_ratio']]"
   ]
  },
  {
   "cell_type": "code",
   "execution_count": 37,
   "id": "abc4ee9c",
   "metadata": {
    "scrolled": true
   },
   "outputs": [
    {
     "data": {
      "text/html": [
       "<div>\n",
       "<style scoped>\n",
       "    .dataframe tbody tr th:only-of-type {\n",
       "        vertical-align: middle;\n",
       "    }\n",
       "\n",
       "    .dataframe tbody tr th {\n",
       "        vertical-align: top;\n",
       "    }\n",
       "\n",
       "    .dataframe thead th {\n",
       "        text-align: right;\n",
       "    }\n",
       "</style>\n",
       "<table border=\"1\" class=\"dataframe\">\n",
       "  <thead>\n",
       "    <tr style=\"text-align: right;\">\n",
       "      <th></th>\n",
       "      <th>world_rank</th>\n",
       "      <th>university_name</th>\n",
       "      <th>country</th>\n",
       "      <th>teaching</th>\n",
       "      <th>international</th>\n",
       "      <th>research</th>\n",
       "      <th>citations</th>\n",
       "      <th>income</th>\n",
       "      <th>total_score</th>\n",
       "      <th>num_students</th>\n",
       "      <th>student_staff_ratio</th>\n",
       "      <th>international_students</th>\n",
       "      <th>female_male_ratio</th>\n",
       "    </tr>\n",
       "    <tr>\n",
       "      <th>year</th>\n",
       "      <th></th>\n",
       "      <th></th>\n",
       "      <th></th>\n",
       "      <th></th>\n",
       "      <th></th>\n",
       "      <th></th>\n",
       "      <th></th>\n",
       "      <th></th>\n",
       "      <th></th>\n",
       "      <th></th>\n",
       "      <th></th>\n",
       "      <th></th>\n",
       "      <th></th>\n",
       "    </tr>\n",
       "  </thead>\n",
       "  <tbody>\n",
       "    <tr>\n",
       "      <th>2011</th>\n",
       "      <td>1.0</td>\n",
       "      <td>Harvard University</td>\n",
       "      <td>United States of America</td>\n",
       "      <td>99.7</td>\n",
       "      <td>72.4</td>\n",
       "      <td>98.7</td>\n",
       "      <td>98.8</td>\n",
       "      <td>34.5</td>\n",
       "      <td>96.1</td>\n",
       "      <td>20152.0</td>\n",
       "      <td>8.9</td>\n",
       "      <td>25.0</td>\n",
       "      <td>0.000000</td>\n",
       "    </tr>\n",
       "    <tr>\n",
       "      <th>2011</th>\n",
       "      <td>2.0</td>\n",
       "      <td>California Institute of Technology</td>\n",
       "      <td>United States of America</td>\n",
       "      <td>97.7</td>\n",
       "      <td>54.6</td>\n",
       "      <td>98.0</td>\n",
       "      <td>99.9</td>\n",
       "      <td>83.7</td>\n",
       "      <td>96.0</td>\n",
       "      <td>2243.0</td>\n",
       "      <td>6.9</td>\n",
       "      <td>27.0</td>\n",
       "      <td>0.492537</td>\n",
       "    </tr>\n",
       "    <tr>\n",
       "      <th>2011</th>\n",
       "      <td>3.0</td>\n",
       "      <td>Massachusetts Institute of Technology</td>\n",
       "      <td>United States of America</td>\n",
       "      <td>97.8</td>\n",
       "      <td>82.3</td>\n",
       "      <td>91.4</td>\n",
       "      <td>99.9</td>\n",
       "      <td>87.5</td>\n",
       "      <td>95.6</td>\n",
       "      <td>11074.0</td>\n",
       "      <td>9.0</td>\n",
       "      <td>33.0</td>\n",
       "      <td>0.587302</td>\n",
       "    </tr>\n",
       "    <tr>\n",
       "      <th>2011</th>\n",
       "      <td>4.0</td>\n",
       "      <td>Stanford University</td>\n",
       "      <td>United States of America</td>\n",
       "      <td>98.3</td>\n",
       "      <td>29.5</td>\n",
       "      <td>98.1</td>\n",
       "      <td>99.2</td>\n",
       "      <td>64.3</td>\n",
       "      <td>94.3</td>\n",
       "      <td>15596.0</td>\n",
       "      <td>7.8</td>\n",
       "      <td>22.0</td>\n",
       "      <td>0.724138</td>\n",
       "    </tr>\n",
       "    <tr>\n",
       "      <th>2011</th>\n",
       "      <td>5.0</td>\n",
       "      <td>Princeton University</td>\n",
       "      <td>United States of America</td>\n",
       "      <td>90.9</td>\n",
       "      <td>70.3</td>\n",
       "      <td>95.4</td>\n",
       "      <td>99.9</td>\n",
       "      <td>0.0</td>\n",
       "      <td>94.2</td>\n",
       "      <td>7929.0</td>\n",
       "      <td>8.4</td>\n",
       "      <td>27.0</td>\n",
       "      <td>0.818182</td>\n",
       "    </tr>\n",
       "    <tr>\n",
       "      <th>...</th>\n",
       "      <td>...</td>\n",
       "      <td>...</td>\n",
       "      <td>...</td>\n",
       "      <td>...</td>\n",
       "      <td>...</td>\n",
       "      <td>...</td>\n",
       "      <td>...</td>\n",
       "      <td>...</td>\n",
       "      <td>...</td>\n",
       "      <td>...</td>\n",
       "      <td>...</td>\n",
       "      <td>...</td>\n",
       "      <td>...</td>\n",
       "    </tr>\n",
       "    <tr>\n",
       "      <th>2016</th>\n",
       "      <td>5.0</td>\n",
       "      <td>Massachusetts Institute of Technology</td>\n",
       "      <td>United States of America</td>\n",
       "      <td>89.4</td>\n",
       "      <td>84.0</td>\n",
       "      <td>88.6</td>\n",
       "      <td>99.7</td>\n",
       "      <td>95.4</td>\n",
       "      <td>92.0</td>\n",
       "      <td>11074.0</td>\n",
       "      <td>9.0</td>\n",
       "      <td>33.0</td>\n",
       "      <td>0.587302</td>\n",
       "    </tr>\n",
       "    <tr>\n",
       "      <th>2016</th>\n",
       "      <td>6.0</td>\n",
       "      <td>Harvard University</td>\n",
       "      <td>United States of America</td>\n",
       "      <td>83.6</td>\n",
       "      <td>77.2</td>\n",
       "      <td>99.0</td>\n",
       "      <td>99.8</td>\n",
       "      <td>45.2</td>\n",
       "      <td>91.6</td>\n",
       "      <td>20152.0</td>\n",
       "      <td>8.9</td>\n",
       "      <td>25.0</td>\n",
       "      <td>0.000000</td>\n",
       "    </tr>\n",
       "    <tr>\n",
       "      <th>2016</th>\n",
       "      <td>7.0</td>\n",
       "      <td>Princeton University</td>\n",
       "      <td>United States of America</td>\n",
       "      <td>85.1</td>\n",
       "      <td>78.5</td>\n",
       "      <td>91.9</td>\n",
       "      <td>99.3</td>\n",
       "      <td>52.1</td>\n",
       "      <td>90.1</td>\n",
       "      <td>7929.0</td>\n",
       "      <td>8.4</td>\n",
       "      <td>27.0</td>\n",
       "      <td>0.818182</td>\n",
       "    </tr>\n",
       "    <tr>\n",
       "      <th>2016</th>\n",
       "      <td>8.0</td>\n",
       "      <td>Imperial College London</td>\n",
       "      <td>United Kingdom</td>\n",
       "      <td>83.3</td>\n",
       "      <td>96.0</td>\n",
       "      <td>88.5</td>\n",
       "      <td>96.7</td>\n",
       "      <td>53.7</td>\n",
       "      <td>89.1</td>\n",
       "      <td>15060.0</td>\n",
       "      <td>11.7</td>\n",
       "      <td>51.0</td>\n",
       "      <td>0.587302</td>\n",
       "    </tr>\n",
       "    <tr>\n",
       "      <th>2016</th>\n",
       "      <td>9.0</td>\n",
       "      <td>ETH Zurich – Swiss Federal Institute of Techno...</td>\n",
       "      <td>Switzerland</td>\n",
       "      <td>77.0</td>\n",
       "      <td>97.9</td>\n",
       "      <td>95.0</td>\n",
       "      <td>91.1</td>\n",
       "      <td>80.0</td>\n",
       "      <td>88.3</td>\n",
       "      <td>18178.0</td>\n",
       "      <td>14.7</td>\n",
       "      <td>37.0</td>\n",
       "      <td>0.449275</td>\n",
       "    </tr>\n",
       "  </tbody>\n",
       "</table>\n",
       "<p>55 rows × 13 columns</p>\n",
       "</div>"
      ],
      "text/plain": [
       "      world_rank                                    university_name  \\\n",
       "year                                                                  \n",
       "2011         1.0                                 Harvard University   \n",
       "2011         2.0                 California Institute of Technology   \n",
       "2011         3.0              Massachusetts Institute of Technology   \n",
       "2011         4.0                                Stanford University   \n",
       "2011         5.0                               Princeton University   \n",
       "...          ...                                                ...   \n",
       "2016         5.0              Massachusetts Institute of Technology   \n",
       "2016         6.0                                 Harvard University   \n",
       "2016         7.0                               Princeton University   \n",
       "2016         8.0                            Imperial College London   \n",
       "2016         9.0  ETH Zurich – Swiss Federal Institute of Techno...   \n",
       "\n",
       "                       country  teaching  international  research  citations  \\\n",
       "year                                                                           \n",
       "2011  United States of America      99.7           72.4      98.7       98.8   \n",
       "2011  United States of America      97.7           54.6      98.0       99.9   \n",
       "2011  United States of America      97.8           82.3      91.4       99.9   \n",
       "2011  United States of America      98.3           29.5      98.1       99.2   \n",
       "2011  United States of America      90.9           70.3      95.4       99.9   \n",
       "...                        ...       ...            ...       ...        ...   \n",
       "2016  United States of America      89.4           84.0      88.6       99.7   \n",
       "2016  United States of America      83.6           77.2      99.0       99.8   \n",
       "2016  United States of America      85.1           78.5      91.9       99.3   \n",
       "2016            United Kingdom      83.3           96.0      88.5       96.7   \n",
       "2016               Switzerland      77.0           97.9      95.0       91.1   \n",
       "\n",
       "      income  total_score  num_students  student_staff_ratio  \\\n",
       "year                                                           \n",
       "2011    34.5         96.1       20152.0                  8.9   \n",
       "2011    83.7         96.0        2243.0                  6.9   \n",
       "2011    87.5         95.6       11074.0                  9.0   \n",
       "2011    64.3         94.3       15596.0                  7.8   \n",
       "2011     0.0         94.2        7929.0                  8.4   \n",
       "...      ...          ...           ...                  ...   \n",
       "2016    95.4         92.0       11074.0                  9.0   \n",
       "2016    45.2         91.6       20152.0                  8.9   \n",
       "2016    52.1         90.1        7929.0                  8.4   \n",
       "2016    53.7         89.1       15060.0                 11.7   \n",
       "2016    80.0         88.3       18178.0                 14.7   \n",
       "\n",
       "      international_students  female_male_ratio  \n",
       "year                                             \n",
       "2011                    25.0           0.000000  \n",
       "2011                    27.0           0.492537  \n",
       "2011                    33.0           0.587302  \n",
       "2011                    22.0           0.724138  \n",
       "2011                    27.0           0.818182  \n",
       "...                      ...                ...  \n",
       "2016                    33.0           0.587302  \n",
       "2016                    25.0           0.000000  \n",
       "2016                    27.0           0.818182  \n",
       "2016                    51.0           0.587302  \n",
       "2016                    37.0           0.449275  \n",
       "\n",
       "[55 rows x 13 columns]"
      ]
     },
     "execution_count": 37,
     "metadata": {},
     "output_type": "execute_result"
    }
   ],
   "source": [
    "# Set the \"year\" column as the index\n",
    "\n",
    "df_top200 = df_top200.set_index('year')\n",
    "df_top200"
   ]
  },
  {
   "cell_type": "markdown",
   "id": "8a092c02",
   "metadata": {},
   "source": [
    "## 3. Make a subset of your data set if necessary."
   ]
  },
  {
   "cell_type": "code",
   "execution_count": 38,
   "id": "3ef13aa7",
   "metadata": {},
   "outputs": [
    {
     "data": {
      "text/html": [
       "<div>\n",
       "<style scoped>\n",
       "    .dataframe tbody tr th:only-of-type {\n",
       "        vertical-align: middle;\n",
       "    }\n",
       "\n",
       "    .dataframe tbody tr th {\n",
       "        vertical-align: top;\n",
       "    }\n",
       "\n",
       "    .dataframe thead th {\n",
       "        text-align: right;\n",
       "    }\n",
       "</style>\n",
       "<table border=\"1\" class=\"dataframe\">\n",
       "  <thead>\n",
       "    <tr style=\"text-align: right;\">\n",
       "      <th></th>\n",
       "      <th>world_rank</th>\n",
       "      <th>university_name</th>\n",
       "      <th>country</th>\n",
       "      <th>teaching</th>\n",
       "      <th>international</th>\n",
       "      <th>research</th>\n",
       "      <th>citations</th>\n",
       "      <th>income</th>\n",
       "      <th>total_score</th>\n",
       "      <th>num_students</th>\n",
       "      <th>student_staff_ratio</th>\n",
       "      <th>international_students</th>\n",
       "      <th>female_male_ratio</th>\n",
       "    </tr>\n",
       "    <tr>\n",
       "      <th>year</th>\n",
       "      <th></th>\n",
       "      <th></th>\n",
       "      <th></th>\n",
       "      <th></th>\n",
       "      <th></th>\n",
       "      <th></th>\n",
       "      <th></th>\n",
       "      <th></th>\n",
       "      <th></th>\n",
       "      <th></th>\n",
       "      <th></th>\n",
       "      <th></th>\n",
       "      <th></th>\n",
       "    </tr>\n",
       "  </thead>\n",
       "  <tbody>\n",
       "    <tr>\n",
       "      <th>2011</th>\n",
       "      <td>1.0</td>\n",
       "      <td>Harvard University</td>\n",
       "      <td>United States of America</td>\n",
       "      <td>99.7</td>\n",
       "      <td>72.4</td>\n",
       "      <td>98.7</td>\n",
       "      <td>98.8</td>\n",
       "      <td>34.5</td>\n",
       "      <td>96.1</td>\n",
       "      <td>20152.0</td>\n",
       "      <td>8.9</td>\n",
       "      <td>25.0</td>\n",
       "      <td>0.0</td>\n",
       "    </tr>\n",
       "    <tr>\n",
       "      <th>2012</th>\n",
       "      <td>2.0</td>\n",
       "      <td>Harvard University</td>\n",
       "      <td>United States of America</td>\n",
       "      <td>95.8</td>\n",
       "      <td>67.5</td>\n",
       "      <td>97.4</td>\n",
       "      <td>99.8</td>\n",
       "      <td>35.9</td>\n",
       "      <td>93.9</td>\n",
       "      <td>20152.0</td>\n",
       "      <td>8.9</td>\n",
       "      <td>25.0</td>\n",
       "      <td>0.0</td>\n",
       "    </tr>\n",
       "    <tr>\n",
       "      <th>2013</th>\n",
       "      <td>4.0</td>\n",
       "      <td>Harvard University</td>\n",
       "      <td>United States of America</td>\n",
       "      <td>94.9</td>\n",
       "      <td>63.7</td>\n",
       "      <td>98.6</td>\n",
       "      <td>99.2</td>\n",
       "      <td>39.9</td>\n",
       "      <td>93.6</td>\n",
       "      <td>20152.0</td>\n",
       "      <td>8.9</td>\n",
       "      <td>25.0</td>\n",
       "      <td>0.0</td>\n",
       "    </tr>\n",
       "    <tr>\n",
       "      <th>2014</th>\n",
       "      <td>2.0</td>\n",
       "      <td>Harvard University</td>\n",
       "      <td>United States of America</td>\n",
       "      <td>95.3</td>\n",
       "      <td>66.2</td>\n",
       "      <td>98.5</td>\n",
       "      <td>99.1</td>\n",
       "      <td>40.6</td>\n",
       "      <td>93.9</td>\n",
       "      <td>20152.0</td>\n",
       "      <td>8.9</td>\n",
       "      <td>25.0</td>\n",
       "      <td>0.0</td>\n",
       "    </tr>\n",
       "    <tr>\n",
       "      <th>2015</th>\n",
       "      <td>2.0</td>\n",
       "      <td>Harvard University</td>\n",
       "      <td>United States of America</td>\n",
       "      <td>92.9</td>\n",
       "      <td>67.6</td>\n",
       "      <td>98.6</td>\n",
       "      <td>98.9</td>\n",
       "      <td>44.0</td>\n",
       "      <td>93.3</td>\n",
       "      <td>20152.0</td>\n",
       "      <td>8.9</td>\n",
       "      <td>25.0</td>\n",
       "      <td>0.0</td>\n",
       "    </tr>\n",
       "    <tr>\n",
       "      <th>2016</th>\n",
       "      <td>6.0</td>\n",
       "      <td>Harvard University</td>\n",
       "      <td>United States of America</td>\n",
       "      <td>83.6</td>\n",
       "      <td>77.2</td>\n",
       "      <td>99.0</td>\n",
       "      <td>99.8</td>\n",
       "      <td>45.2</td>\n",
       "      <td>91.6</td>\n",
       "      <td>20152.0</td>\n",
       "      <td>8.9</td>\n",
       "      <td>25.0</td>\n",
       "      <td>0.0</td>\n",
       "    </tr>\n",
       "  </tbody>\n",
       "</table>\n",
       "</div>"
      ],
      "text/plain": [
       "      world_rank     university_name                   country  teaching  \\\n",
       "year                                                                       \n",
       "2011         1.0  Harvard University  United States of America      99.7   \n",
       "2012         2.0  Harvard University  United States of America      95.8   \n",
       "2013         4.0  Harvard University  United States of America      94.9   \n",
       "2014         2.0  Harvard University  United States of America      95.3   \n",
       "2015         2.0  Harvard University  United States of America      92.9   \n",
       "2016         6.0  Harvard University  United States of America      83.6   \n",
       "\n",
       "      international  research  citations  income  total_score  num_students  \\\n",
       "year                                                                          \n",
       "2011           72.4      98.7       98.8    34.5         96.1       20152.0   \n",
       "2012           67.5      97.4       99.8    35.9         93.9       20152.0   \n",
       "2013           63.7      98.6       99.2    39.9         93.6       20152.0   \n",
       "2014           66.2      98.5       99.1    40.6         93.9       20152.0   \n",
       "2015           67.6      98.6       98.9    44.0         93.3       20152.0   \n",
       "2016           77.2      99.0       99.8    45.2         91.6       20152.0   \n",
       "\n",
       "      student_staff_ratio  international_students  female_male_ratio  \n",
       "year                                                                  \n",
       "2011                  8.9                    25.0                0.0  \n",
       "2012                  8.9                    25.0                0.0  \n",
       "2013                  8.9                    25.0                0.0  \n",
       "2014                  8.9                    25.0                0.0  \n",
       "2015                  8.9                    25.0                0.0  \n",
       "2016                  8.9                    25.0                0.0  "
      ]
     },
     "execution_count": 38,
     "metadata": {},
     "output_type": "execute_result"
    }
   ],
   "source": [
    "# Create subset including only data from Harvard\n",
    "df_Harvard = df_top200.loc[df_top200['university_name'] == 'Harvard University']\n",
    "#pd.set_option('display.max_rows', 200)\n",
    "df_Harvard"
   ]
  },
  {
   "cell_type": "code",
   "execution_count": 45,
   "id": "5862c71b",
   "metadata": {
    "scrolled": true
   },
   "outputs": [
    {
     "data": {
      "text/html": [
       "<div>\n",
       "<style scoped>\n",
       "    .dataframe tbody tr th:only-of-type {\n",
       "        vertical-align: middle;\n",
       "    }\n",
       "\n",
       "    .dataframe tbody tr th {\n",
       "        vertical-align: top;\n",
       "    }\n",
       "\n",
       "    .dataframe thead th {\n",
       "        text-align: right;\n",
       "    }\n",
       "</style>\n",
       "<table border=\"1\" class=\"dataframe\">\n",
       "  <thead>\n",
       "    <tr style=\"text-align: right;\">\n",
       "      <th></th>\n",
       "      <th>total_score</th>\n",
       "    </tr>\n",
       "    <tr>\n",
       "      <th>year</th>\n",
       "      <th></th>\n",
       "    </tr>\n",
       "  </thead>\n",
       "  <tbody>\n",
       "    <tr>\n",
       "      <th>2011</th>\n",
       "      <td>96.1</td>\n",
       "    </tr>\n",
       "    <tr>\n",
       "      <th>2012</th>\n",
       "      <td>93.9</td>\n",
       "    </tr>\n",
       "    <tr>\n",
       "      <th>2013</th>\n",
       "      <td>93.6</td>\n",
       "    </tr>\n",
       "    <tr>\n",
       "      <th>2014</th>\n",
       "      <td>93.9</td>\n",
       "    </tr>\n",
       "    <tr>\n",
       "      <th>2015</th>\n",
       "      <td>93.3</td>\n",
       "    </tr>\n",
       "    <tr>\n",
       "      <th>2016</th>\n",
       "      <td>91.6</td>\n",
       "    </tr>\n",
       "  </tbody>\n",
       "</table>\n",
       "</div>"
      ],
      "text/plain": [
       "      total_score\n",
       "year             \n",
       "2011         96.1\n",
       "2012         93.9\n",
       "2013         93.6\n",
       "2014         93.9\n",
       "2015         93.3\n",
       "2016         91.6"
      ]
     },
     "execution_count": 45,
     "metadata": {},
     "output_type": "execute_result"
    }
   ],
   "source": [
    "# Subsetting only world_rank and year from Harvard\n",
    "data_sub = df_Harvard[['total_score']]\n",
    "data_sub"
   ]
  },
  {
   "cell_type": "markdown",
   "id": "c7a3b7c5",
   "metadata": {},
   "source": [
    "## 4. Create a line chart of your data."
   ]
  },
  {
   "cell_type": "code",
   "execution_count": 46,
   "id": "65b51a04",
   "metadata": {},
   "outputs": [
    {
     "data": {
      "text/plain": [
       "[<matplotlib.lines.Line2D at 0x22bc53c97d0>]"
      ]
     },
     "execution_count": 46,
     "metadata": {},
     "output_type": "execute_result"
    },
    {
     "data": {
      "image/png": "[encoded data removed]",
      "text/plain": [
       "<Figure size 1500x500 with 1 Axes>"
      ]
     },
     "metadata": {},
     "output_type": "display_data"
    }
   ],
   "source": [
    "# Plot the new data set\n",
    "\n",
    "plt.figure(figsize=(15,5), dpi=100)\n",
    "plt.plot(data_sub)"
   ]
  },
  {
   "cell_type": "markdown",
   "id": "5d08dc16",
   "metadata": {},
   "source": [
    "## 5. Decompose the data’s components. "
   ]
  },
  {
   "cell_type": "code",
   "execution_count": 50,
   "id": "ad0b6222",
   "metadata": {},
   "outputs": [],
   "source": [
    "# Decompose the time series using an additive model\n",
    "\n",
    "decomposition = sm.tsa.seasonal_decompose(data_sub, model='additive', period=1)"
   ]
  },
  {
   "cell_type": "code",
   "execution_count": 51,
   "id": "8c021f69",
   "metadata": {
    "scrolled": true
   },
   "outputs": [],
   "source": [
    "from pylab import rcParams # This will define a fixed size for all special charts.\n",
    "\n",
    "rcParams['figure.figsize'] = 18, 7"
   ]
  },
  {
   "cell_type": "code",
   "execution_count": 52,
   "id": "440a0ae2",
   "metadata": {
    "scrolled": true
   },
   "outputs": [
    {
     "data": {
      "image/png": "[encoded data removed]",
      "text/plain": [
       "<Figure size 1800x700 with 4 Axes>"
      ]
     },
     "metadata": {},
     "output_type": "display_data"
    }
   ],
   "source": [
    "# Plot the separate components\n",
    "\n",
    "decomposition.plot()\n",
    "plt.show()"
   ]
  },
  {
   "cell_type": "markdown",
   "id": "9b97dcbb",
   "metadata": {},
   "source": [
    "Since there are only six data points from the years 2011, 2012, 2013, 2014, 2015, and 2016, there is no Seasonal or Residual part of the time series decomposition."
   ]
  },
  {
   "cell_type": "markdown",
   "id": "716caec8",
   "metadata": {},
   "source": [
    "## 6. Conduct a Dickey-Fuller test to check for stationarity.\n",
    "\n"
   ]
  },
  {
   "cell_type": "code",
   "execution_count": 54,
   "id": "0e440d09",
   "metadata": {
    "scrolled": true
   },
   "outputs": [
    {
     "name": "stdout",
     "output_type": "stream",
     "text": [
      "Dickey-Fuller Stationarity test:\n",
      "Test Statistic                -1.296951\n",
      "p-value                        0.630566\n",
      "Number of Lags Used            0.000000\n",
      "Number of Observations Used    5.000000\n",
      "Critical Value (1%)           -6.045114\n",
      "Critical Value (5%)           -3.929280\n",
      "Critical Value (10%)          -2.986810\n",
      "dtype: float64\n"
     ]
    }
   ],
   "source": [
    "# The adfuller() function will import from the model from statsmodels for the test; however, running it will only return \n",
    "# an array of numbers. This is why you need to also define a function that prints the correct output from that array.\n",
    "\n",
    "from statsmodels.tsa.stattools import adfuller # Import the adfuller() function\n",
    "\n",
    "def dickey_fuller(timeseries): # Define the function\n",
    "    # Perform the Dickey-Fuller test:\n",
    "    print ('Dickey-Fuller Stationarity test:')\n",
    "    test = adfuller(timeseries, autolag='AIC')\n",
    "    result = pd.Series(test[0:4], index=['Test Statistic','p-value','Number of Lags Used','Number of Observations Used'])\n",
    "    for key,value in test[4].items():\n",
    "       result['Critical Value (%s)'%key] = value\n",
    "    print (result)\n",
    "\n",
    "# Apply the test using the function on the time series\n",
    "dickey_fuller(data_sub['total_score'])"
   ]
  },
  {
   "cell_type": "markdown",
   "id": "6ae71427",
   "metadata": {},
   "source": [
    "Since the cricitcal value of 5% is lower than the test statistic, the data is not stationary. According to \"The null hypothesis in this case would be the presence of a unit root (you want to disprove that there’s a unit root, which would mean that your data is stationary). Correspondingly, the alternative hypothesis is that there’s no unit root. If you can’t rule out the null hypothesis, your data is non-stationary.\" this means that there is a unit root and the data is non-stationary."
   ]
  },
  {
   "cell_type": "markdown",
   "id": "208138e3",
   "metadata": {},
   "source": [
    "## 7. If your data isn’t stationary, conduct a round of differencing on it and repeat step 6.\n"
   ]
  },
  {
   "cell_type": "code",
   "execution_count": 55,
   "id": "261e2f0f",
   "metadata": {},
   "outputs": [],
   "source": [
    "data_diff = data_sub - data_sub.shift(1) # The df.shift(1) function turns the observation to t-1, making the whole thing t - (t -1)\n"
   ]
  },
  {
   "cell_type": "code",
   "execution_count": 56,
   "id": "d50dc503",
   "metadata": {},
   "outputs": [],
   "source": [
    "data_diff.dropna(inplace = True) # Here, you remove the missing values that came about as a result of the differencing. \n",
    "# You need to remove these or you won't be able to run the Dickey-Fuller test."
   ]
  },
  {
   "cell_type": "code",
   "execution_count": 57,
   "id": "45750114",
   "metadata": {
    "scrolled": true
   },
   "outputs": [
    {
     "data": {
      "text/html": [
       "<div>\n",
       "<style scoped>\n",
       "    .dataframe tbody tr th:only-of-type {\n",
       "        vertical-align: middle;\n",
       "    }\n",
       "\n",
       "    .dataframe tbody tr th {\n",
       "        vertical-align: top;\n",
       "    }\n",
       "\n",
       "    .dataframe thead th {\n",
       "        text-align: right;\n",
       "    }\n",
       "</style>\n",
       "<table border=\"1\" class=\"dataframe\">\n",
       "  <thead>\n",
       "    <tr style=\"text-align: right;\">\n",
       "      <th></th>\n",
       "      <th>total_score</th>\n",
       "    </tr>\n",
       "    <tr>\n",
       "      <th>year</th>\n",
       "      <th></th>\n",
       "    </tr>\n",
       "  </thead>\n",
       "  <tbody>\n",
       "    <tr>\n",
       "      <th>2012</th>\n",
       "      <td>-2.2</td>\n",
       "    </tr>\n",
       "    <tr>\n",
       "      <th>2013</th>\n",
       "      <td>-0.3</td>\n",
       "    </tr>\n",
       "    <tr>\n",
       "      <th>2014</th>\n",
       "      <td>0.3</td>\n",
       "    </tr>\n",
       "    <tr>\n",
       "      <th>2015</th>\n",
       "      <td>-0.6</td>\n",
       "    </tr>\n",
       "    <tr>\n",
       "      <th>2016</th>\n",
       "      <td>-1.7</td>\n",
       "    </tr>\n",
       "  </tbody>\n",
       "</table>\n",
       "</div>"
      ],
      "text/plain": [
       "      total_score\n",
       "year             \n",
       "2012         -2.2\n",
       "2013         -0.3\n",
       "2014          0.3\n",
       "2015         -0.6\n",
       "2016         -1.7"
      ]
     },
     "execution_count": 57,
     "metadata": {},
     "output_type": "execute_result"
    }
   ],
   "source": [
    "data_diff.head()"
   ]
  },
  {
   "cell_type": "code",
   "execution_count": 58,
   "id": "60aafe9f",
   "metadata": {
    "scrolled": true
   },
   "outputs": [
    {
     "data": {
      "text/plain": [
       "[<matplotlib.lines.Line2D at 0x22bc58d4750>]"
      ]
     },
     "execution_count": 58,
     "metadata": {},
     "output_type": "execute_result"
    },
    {
     "data": {
      "image/png": "[encoded data removed]",
      "text/plain": [
       "<Figure size 1500x500 with 1 Axes>"
      ]
     },
     "metadata": {},
     "output_type": "display_data"
    }
   ],
   "source": [
    "# Check out what the differencing did to the time-series curve\n",
    "\n",
    "plt.figure(figsize=(15,5), dpi=100)\n",
    "plt.plot(data_diff)"
   ]
  },
  {
   "cell_type": "code",
   "execution_count": 59,
   "id": "b8a994a9",
   "metadata": {
    "scrolled": true
   },
   "outputs": [
    {
     "name": "stdout",
     "output_type": "stream",
     "text": [
      "Dickey-Fuller Stationarity test:\n",
      "Test Statistic                -1.912208\n",
      "p-value                        0.326340\n",
      "Number of Lags Used            0.000000\n",
      "Number of Observations Used    4.000000\n",
      "Critical Value (1%)           -7.355441\n",
      "Critical Value (5%)           -4.474365\n",
      "Critical Value (10%)          -3.126933\n",
      "dtype: float64\n"
     ]
    }
   ],
   "source": [
    "dickey_fuller(data_diff)"
   ]
  },
  {
   "cell_type": "markdown",
   "id": "ee37cd13",
   "metadata": {},
   "source": [
    "The test statistic still is not below the critical value and thus the data still is not stationary."
   ]
  },
  {
   "cell_type": "markdown",
   "id": "d98f191a",
   "metadata": {},
   "source": [
    "## 8. If your data still isn’t stationary, perform another round of differencing and repeat step 6.\n"
   ]
  },
  {
   "cell_type": "code",
   "execution_count": 60,
   "id": "ca1c85dd",
   "metadata": {},
   "outputs": [],
   "source": [
    "data_diff2 = data_diff - data_diff.shift(1) # The df.shift(1) function turns the observation to t-1, making the whole thing t - (t -1)\n"
   ]
  },
  {
   "cell_type": "code",
   "execution_count": 61,
   "id": "4b173c9d",
   "metadata": {},
   "outputs": [],
   "source": [
    "data_diff2.dropna(inplace = True) # Here, you remove the missing values that came about as a result of the differencing. \n",
    "# You need to remove these or you won't be able to run the Dickey-Fuller test."
   ]
  },
  {
   "cell_type": "code",
   "execution_count": 62,
   "id": "f0c71731",
   "metadata": {},
   "outputs": [
    {
     "data": {
      "text/html": [
       "<div>\n",
       "<style scoped>\n",
       "    .dataframe tbody tr th:only-of-type {\n",
       "        vertical-align: middle;\n",
       "    }\n",
       "\n",
       "    .dataframe tbody tr th {\n",
       "        vertical-align: top;\n",
       "    }\n",
       "\n",
       "    .dataframe thead th {\n",
       "        text-align: right;\n",
       "    }\n",
       "</style>\n",
       "<table border=\"1\" class=\"dataframe\">\n",
       "  <thead>\n",
       "    <tr style=\"text-align: right;\">\n",
       "      <th></th>\n",
       "      <th>total_score</th>\n",
       "    </tr>\n",
       "    <tr>\n",
       "      <th>year</th>\n",
       "      <th></th>\n",
       "    </tr>\n",
       "  </thead>\n",
       "  <tbody>\n",
       "    <tr>\n",
       "      <th>2013</th>\n",
       "      <td>1.9</td>\n",
       "    </tr>\n",
       "    <tr>\n",
       "      <th>2014</th>\n",
       "      <td>0.6</td>\n",
       "    </tr>\n",
       "    <tr>\n",
       "      <th>2015</th>\n",
       "      <td>-0.9</td>\n",
       "    </tr>\n",
       "    <tr>\n",
       "      <th>2016</th>\n",
       "      <td>-1.1</td>\n",
       "    </tr>\n",
       "  </tbody>\n",
       "</table>\n",
       "</div>"
      ],
      "text/plain": [
       "      total_score\n",
       "year             \n",
       "2013          1.9\n",
       "2014          0.6\n",
       "2015         -0.9\n",
       "2016         -1.1"
      ]
     },
     "execution_count": 62,
     "metadata": {},
     "output_type": "execute_result"
    }
   ],
   "source": [
    "data_diff2"
   ]
  },
  {
   "cell_type": "code",
   "execution_count": 63,
   "id": "17057829",
   "metadata": {},
   "outputs": [
    {
     "data": {
      "text/plain": [
       "[<matplotlib.lines.Line2D at 0x22bc57dde50>]"
      ]
     },
     "execution_count": 63,
     "metadata": {},
     "output_type": "execute_result"
    },
    {
     "data": {
      "image/png": "[encoded data removed]",
      "text/plain": [
       "<Figure size 1500x500 with 1 Axes>"
      ]
     },
     "metadata": {},
     "output_type": "display_data"
    }
   ],
   "source": [
    "# Check out what the differencing did to the time-series curve\n",
    "\n",
    "plt.figure(figsize=(15,5), dpi=100)\n",
    "plt.plot(data_diff2)"
   ]
  },
  {
   "cell_type": "code",
   "execution_count": 64,
   "id": "d55cac42",
   "metadata": {
    "scrolled": true
   },
   "outputs": [
    {
     "name": "stdout",
     "output_type": "stream",
     "text": [
      "Dickey-Fuller Stationarity test:\n",
      "Test Statistic                 -1.383900\n",
      "p-value                         0.589970\n",
      "Number of Lags Used             0.000000\n",
      "Number of Observations Used     3.000000\n",
      "Critical Value (1%)           -10.417191\n",
      "Critical Value (5%)            -5.778381\n",
      "Critical Value (10%)           -3.391681\n",
      "dtype: float64\n"
     ]
    }
   ],
   "source": [
    "dickey_fuller(data_diff2)"
   ]
  },
  {
   "cell_type": "markdown",
   "id": "0d2d0f2e",
   "metadata": {},
   "source": [
    "## 9. Check your data’s autocorrelations."
   ]
  },
  {
   "cell_type": "code",
   "execution_count": 66,
   "id": "02f9579b",
   "metadata": {
    "scrolled": true
   },
   "outputs": [
    {
     "data": {
      "image/png": "[encoded data removed]",
      "text/plain": [
       "<Figure size 1800x700 with 1 Axes>"
      ]
     },
     "metadata": {},
     "output_type": "display_data"
    }
   ],
   "source": [
    "# Check out a plot of autocorrelations\n",
    "\n",
    "from statsmodels.graphics.tsaplots import plot_acf, plot_pacf # Here, you import the autocorrelation and partial correlation plots\n",
    "\n",
    "plot_acf(data_sub)\n",
    "plt.show()"
   ]
  },
  {
   "cell_type": "code",
   "execution_count": 67,
   "id": "b13af16d",
   "metadata": {
    "scrolled": true
   },
   "outputs": [
    {
     "data": {
      "image/png": "[encoded data removed]",
      "text/plain": [
       "<Figure size 1800x700 with 1 Axes>"
      ]
     },
     "metadata": {},
     "output_type": "display_data"
    }
   ],
   "source": [
    "plot_acf(data_diff)\n",
    "plt.show()"
   ]
  },
  {
   "cell_type": "code",
   "execution_count": 68,
   "id": "d70c477e",
   "metadata": {},
   "outputs": [
    {
     "data": {
      "image/png": "[encoded data removed]",
      "text/plain": [
       "<Figure size 1800x700 with 1 Axes>"
      ]
     },
     "metadata": {},
     "output_type": "display_data"
    }
   ],
   "source": [
    "plot_acf(data_diff2)\n",
    "plt.show()"
   ]
  }
 ],
 "metadata": {
  "kernelspec": {
   "display_name": "Python 3 (ipykernel)",
   "language": "python",
   "name": "python3"
  },
  "language_info": {
   "codemirror_mode": {
    "name": "ipython",
    "version": 3
   },
   "file_extension": ".py",
   "mimetype": "text/x-python",
   "name": "python",
   "nbconvert_exporter": "python",
   "pygments_lexer": "ipython3",
   "version": "3.11.5"
  }
 },
 "nbformat": 4,
 "nbformat_minor": 5
}
